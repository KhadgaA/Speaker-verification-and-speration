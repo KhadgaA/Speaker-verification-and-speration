{
 "cells": [
  {
   "cell_type": "code",
   "execution_count": 2,
   "metadata": {},
   "outputs": [],
   "source": [
    "import torch\n",
    "import torchaudio\n"
   ]
  },
  {
   "cell_type": "code",
   "execution_count": 3,
   "metadata": {},
   "outputs": [],
   "source": [
    "voxceleb = torchaudio.datasets.VoxCeleb1Verification(r'/mnt/d/programming/datasets/VoxCeleb', download=True,meta_url=\"/mnt/d/programming/datasets/VoxCeleb/list_test_hard2.txt\")"
   ]
  },
  {
   "cell_type": "code",
   "execution_count": null,
   "metadata": {},
   "outputs": [],
   "source": []
  },
  {
   "cell_type": "code",
   "execution_count": 8,
   "metadata": {},
   "outputs": [],
   "source": [
    "batch_size = 1\n",
    "test_loader = torch.utils.data.DataLoader(voxceleb, batch_size,shuffle=True)"
   ]
  },
  {
   "cell_type": "code",
   "execution_count": 9,
   "metadata": {},
   "outputs": [
    {
     "name": "stdout",
     "output_type": "stream",
     "text": [
      "torch.Size([1, 1, 81281]) torch.Size([1, 1, 186881]) tensor([16000]) tensor([0])\n",
      "torch.Size([1, 1, 77441]) torch.Size([1, 1, 146561]) tensor([16000]) tensor([1])\n",
      "torch.Size([1, 1, 85761]) torch.Size([1, 1, 95361]) tensor([16000]) tensor([1])\n",
      "torch.Size([1, 1, 132481]) torch.Size([1, 1, 69121]) tensor([16000]) tensor([1])\n",
      "torch.Size([1, 1, 85761]) torch.Size([1, 1, 153601]) tensor([16000]) tensor([0])\n",
      "torch.Size([1, 1, 75521]) torch.Size([1, 1, 77441]) tensor([16000]) tensor([1])\n",
      "torch.Size([1, 1, 76161]) torch.Size([1, 1, 63361]) tensor([16000]) tensor([0])\n",
      "torch.Size([1, 1, 67201]) torch.Size([1, 1, 259201]) tensor([16000]) tensor([0])\n",
      "torch.Size([1, 1, 258561]) torch.Size([1, 1, 167681]) tensor([16000]) tensor([1])\n",
      "torch.Size([1, 1, 76801]) torch.Size([1, 1, 79361]) tensor([16000]) tensor([0])\n",
      "torch.Size([1, 1, 92161]) torch.Size([1, 1, 444801]) tensor([16000]) tensor([1])\n",
      "torch.Size([1, 1, 83201]) torch.Size([1, 1, 79361]) tensor([16000]) tensor([0])\n",
      "torch.Size([1, 1, 144641]) torch.Size([1, 1, 70401]) tensor([16000]) tensor([0])\n",
      "torch.Size([1, 1, 72321]) torch.Size([1, 1, 93441]) tensor([16000]) tensor([1])\n",
      "torch.Size([1, 1, 67841]) torch.Size([1, 1, 106241]) tensor([16000]) tensor([1])\n",
      "torch.Size([1, 1, 89601]) torch.Size([1, 1, 80001]) tensor([16000]) tensor([1])\n",
      "torch.Size([1, 1, 184321]) torch.Size([1, 1, 163201]) tensor([16000]) tensor([1])\n",
      "torch.Size([1, 1, 92161]) torch.Size([1, 1, 195201]) tensor([16000]) tensor([0])\n",
      "torch.Size([1, 1, 78721]) torch.Size([1, 1, 64001]) tensor([16000]) tensor([1])\n",
      "torch.Size([1, 1, 69761]) torch.Size([1, 1, 90241]) tensor([16000]) tensor([0])\n",
      "torch.Size([1, 1, 192641]) torch.Size([1, 1, 88961]) tensor([16000]) tensor([1])\n",
      "torch.Size([1, 1, 83841]) torch.Size([1, 1, 82561]) tensor([16000]) tensor([1])\n",
      "torch.Size([1, 1, 90881]) torch.Size([1, 1, 135681]) tensor([16000]) tensor([1])\n",
      "torch.Size([1, 1, 103041]) torch.Size([1, 1, 85761]) tensor([16000]) tensor([1])\n",
      "torch.Size([1, 1, 96001]) torch.Size([1, 1, 72321]) tensor([16000]) tensor([1])\n",
      "torch.Size([1, 1, 136321]) torch.Size([1, 1, 101121]) tensor([16000]) tensor([1])\n",
      "torch.Size([1, 1, 90241]) torch.Size([1, 1, 66561]) tensor([16000]) tensor([1])\n",
      "torch.Size([1, 1, 95361]) torch.Size([1, 1, 108161]) tensor([16000]) tensor([0])\n",
      "torch.Size([1, 1, 121601]) torch.Size([1, 1, 147201]) tensor([16000]) tensor([1])\n",
      "torch.Size([1, 1, 140161]) torch.Size([1, 1, 135681]) tensor([16000]) tensor([1])\n",
      "torch.Size([1, 1, 91521]) torch.Size([1, 1, 160001]) tensor([16000]) tensor([1])\n",
      "torch.Size([1, 1, 186881]) torch.Size([1, 1, 138881]) tensor([16000]) tensor([0])\n",
      "torch.Size([1, 1, 149121]) torch.Size([1, 1, 109441]) tensor([16000]) tensor([1])\n",
      "torch.Size([1, 1, 83841]) torch.Size([1, 1, 179841]) tensor([16000]) tensor([0])\n",
      "torch.Size([1, 1, 133121]) torch.Size([1, 1, 73601]) tensor([16000]) tensor([1])\n",
      "torch.Size([1, 1, 76801]) torch.Size([1, 1, 74241]) tensor([16000]) tensor([1])\n",
      "torch.Size([1, 1, 64001]) torch.Size([1, 1, 91521]) tensor([16000]) tensor([1])\n",
      "torch.Size([1, 1, 97921]) torch.Size([1, 1, 74881]) tensor([16000]) tensor([1])\n",
      "torch.Size([1, 1, 110081]) torch.Size([1, 1, 78721]) tensor([16000]) tensor([1])\n",
      "torch.Size([1, 1, 179841]) torch.Size([1, 1, 88961]) tensor([16000]) tensor([0])\n",
      "torch.Size([1, 1, 113281]) torch.Size([1, 1, 78721]) tensor([16000]) tensor([0])\n",
      "torch.Size([1, 1, 64641]) torch.Size([1, 1, 131201]) tensor([16000]) tensor([0])\n",
      "torch.Size([1, 1, 80641]) torch.Size([1, 1, 129921]) tensor([16000]) tensor([1])\n",
      "torch.Size([1, 1, 128001]) torch.Size([1, 1, 76161]) tensor([16000]) tensor([0])\n",
      "torch.Size([1, 1, 83841]) torch.Size([1, 1, 76161]) tensor([16000]) tensor([0])\n",
      "torch.Size([1, 1, 71681]) torch.Size([1, 1, 126721]) tensor([16000]) tensor([0])\n",
      "torch.Size([1, 1, 138241]) torch.Size([1, 1, 69121]) tensor([16000]) tensor([0])\n",
      "torch.Size([1, 1, 76801]) torch.Size([1, 1, 115201]) tensor([16000]) tensor([1])\n",
      "torch.Size([1, 1, 79361]) torch.Size([1, 1, 267521]) tensor([16000]) tensor([0])\n",
      "torch.Size([1, 1, 77441]) torch.Size([1, 1, 104961]) tensor([16000]) tensor([0])\n",
      "torch.Size([1, 1, 108161]) torch.Size([1, 1, 66561]) tensor([16000]) tensor([1])\n",
      "torch.Size([1, 1, 96001]) torch.Size([1, 1, 84481]) tensor([16000]) tensor([0])\n",
      "torch.Size([1, 1, 67841]) torch.Size([1, 1, 145281]) tensor([16000]) tensor([0])\n",
      "torch.Size([1, 1, 154241]) torch.Size([1, 1, 140161]) tensor([16000]) tensor([0])\n",
      "torch.Size([1, 1, 116481]) torch.Size([1, 1, 65281]) tensor([16000]) tensor([1])\n",
      "torch.Size([1, 1, 103681]) torch.Size([1, 1, 92801]) tensor([16000]) tensor([1])\n",
      "torch.Size([1, 1, 108801]) torch.Size([1, 1, 119041]) tensor([16000]) tensor([0])\n",
      "torch.Size([1, 1, 115841]) torch.Size([1, 1, 66561]) tensor([16000]) tensor([0])\n",
      "torch.Size([1, 1, 130561]) torch.Size([1, 1, 228481]) tensor([16000]) tensor([0])\n",
      "torch.Size([1, 1, 102401]) torch.Size([1, 1, 63361]) tensor([16000]) tensor([1])\n",
      "torch.Size([1, 1, 157441]) torch.Size([1, 1, 77441]) tensor([16000]) tensor([0])\n",
      "torch.Size([1, 1, 65921]) torch.Size([1, 1, 171521]) tensor([16000]) tensor([1])\n",
      "torch.Size([1, 1, 69761]) torch.Size([1, 1, 333441]) tensor([16000]) tensor([0])\n",
      "torch.Size([1, 1, 78081]) torch.Size([1, 1, 122881]) tensor([16000]) tensor([1])\n",
      "torch.Size([1, 1, 65281]) torch.Size([1, 1, 206081]) tensor([16000]) tensor([0])\n",
      "torch.Size([1, 1, 184961]) torch.Size([1, 1, 96641]) tensor([16000]) tensor([1])\n",
      "torch.Size([1, 1, 83201]) torch.Size([1, 1, 90881]) tensor([16000]) tensor([1])\n",
      "torch.Size([1, 1, 67201]) torch.Size([1, 1, 69761]) tensor([16000]) tensor([1])\n",
      "torch.Size([1, 1, 88321]) torch.Size([1, 1, 63361]) tensor([16000]) tensor([1])\n",
      "torch.Size([1, 1, 127361]) torch.Size([1, 1, 66561]) tensor([16000]) tensor([0])\n",
      "torch.Size([1, 1, 94081]) torch.Size([1, 1, 92801]) tensor([16000]) tensor([0])\n",
      "torch.Size([1, 1, 627201]) torch.Size([1, 1, 262401]) tensor([16000]) tensor([1])\n",
      "torch.Size([1, 1, 202241]) torch.Size([1, 1, 81281]) tensor([16000]) tensor([0])\n",
      "torch.Size([1, 1, 302721]) torch.Size([1, 1, 210561]) tensor([16000]) tensor([1])\n",
      "torch.Size([1, 1, 63361]) torch.Size([1, 1, 69121]) tensor([16000]) tensor([0])\n",
      "torch.Size([1, 1, 69761]) torch.Size([1, 1, 286081]) tensor([16000]) tensor([0])\n",
      "torch.Size([1, 1, 190721]) torch.Size([1, 1, 65921]) tensor([16000]) tensor([0])\n",
      "torch.Size([1, 1, 519041]) torch.Size([1, 1, 341121]) tensor([16000]) tensor([1])\n",
      "torch.Size([1, 1, 165121]) torch.Size([1, 1, 328321]) tensor([16000]) tensor([0])\n",
      "torch.Size([1, 1, 165761]) torch.Size([1, 1, 136961]) tensor([16000]) tensor([1])\n",
      "torch.Size([1, 1, 94081]) torch.Size([1, 1, 66561]) tensor([16000]) tensor([0])\n",
      "torch.Size([1, 1, 99201]) torch.Size([1, 1, 97921]) tensor([16000]) tensor([1])\n",
      "torch.Size([1, 1, 110081]) torch.Size([1, 1, 63361]) tensor([16000]) tensor([1])\n",
      "torch.Size([1, 1, 108801]) torch.Size([1, 1, 152321]) tensor([16000]) tensor([1])\n",
      "torch.Size([1, 1, 124161]) torch.Size([1, 1, 112001]) tensor([16000]) tensor([1])\n",
      "torch.Size([1, 1, 161281]) torch.Size([1, 1, 382721]) tensor([16000]) tensor([1])\n",
      "torch.Size([1, 1, 67201]) torch.Size([1, 1, 67201]) tensor([16000]) tensor([1])\n",
      "torch.Size([1, 1, 68481]) torch.Size([1, 1, 65921]) tensor([16000]) tensor([0])\n",
      "torch.Size([1, 1, 101761]) torch.Size([1, 1, 95361]) tensor([16000]) tensor([1])\n",
      "torch.Size([1, 1, 99841]) torch.Size([1, 1, 154241]) tensor([16000]) tensor([0])\n",
      "torch.Size([1, 1, 380161]) torch.Size([1, 1, 70401]) tensor([16000]) tensor([0])\n",
      "torch.Size([1, 1, 87041]) torch.Size([1, 1, 167681]) tensor([16000]) tensor([1])\n",
      "torch.Size([1, 1, 66561]) torch.Size([1, 1, 114561]) tensor([16000]) tensor([0])\n",
      "torch.Size([1, 1, 227841]) torch.Size([1, 1, 76161]) tensor([16000]) tensor([1])\n",
      "torch.Size([1, 1, 101761]) torch.Size([1, 1, 186241]) tensor([16000]) tensor([0])\n",
      "torch.Size([1, 1, 126721]) torch.Size([1, 1, 187521]) tensor([16000]) tensor([1])\n",
      "torch.Size([1, 1, 112641]) torch.Size([1, 1, 163201]) tensor([16000]) tensor([0])\n",
      "torch.Size([1, 1, 67201]) torch.Size([1, 1, 76161]) tensor([16000]) tensor([0])\n",
      "torch.Size([1, 1, 102401]) torch.Size([1, 1, 128001]) tensor([16000]) tensor([0])\n",
      "torch.Size([1, 1, 325761]) torch.Size([1, 1, 69121]) tensor([16000]) tensor([1])\n",
      "torch.Size([1, 1, 116481]) torch.Size([1, 1, 312961]) tensor([16000]) tensor([1])\n"
     ]
    }
   ],
   "source": [
    "i=0\n",
    "for wav1, wav2, sr, label,*_ in test_loader:\n",
    "    print(wav1.shape, wav2.shape,sr,label)\n",
    "    i+=1\n",
    "    if i>100:\n",
    "        break"
   ]
  },
  {
   "cell_type": "code",
   "execution_count": 8,
   "metadata": {},
   "outputs": [],
   "source": [
    "#!python verification_wvlm.py --model_name wavlm_base_plus --wav1 trial_wavs/hn8GyCJIfLM_0000012.wav --wav2 trial_wavs/HXUqYaOwrxA_0000015.wav --checkpoint C:\\Users\\KHADGA JYOTH ALLI\\Desktop\\programming\\Class Work\\IITJ\\Speech Understanding\\Assignment 2\\model_checkpoints\\wavlm_base_plus_nofinetune.pth"
   ]
  },
  {
   "cell_type": "code",
   "execution_count": 55,
   "metadata": {},
   "outputs": [],
   "source": [
    "wav1_dir=r\"/mnt/c/Users/KHADGA JYOTH ALLI/Desktop/programming/Class Work/IITJ/Speech Understanding/Assignment 2/trial_wavs/hn8GyCJIfLM_0000012.wav\"\n",
    "wav2_dir=r\"/mnt/c/Users/KHADGA JYOTH ALLI/Desktop/programming/Class Work/IITJ/Speech Understanding/Assignment 2/trial_wavs/xTOk1Jz-F_g_0000015.wav\"\n",
    "            \n",
    "# wav1, wav2, label = batch\n",
    "wav1, sr1 = torchaudio.load(wav1_dir)\n",
    "wav2,sr2 = torchaudio.load(wav2_dir)\n",
    "resample1 = torchaudio.transforms.Resample(orig_freq=int(sr1), new_freq=16000)\n",
    "resample2 = torchaudio.transforms.Resample(orig_freq=int(sr2), new_freq=16000)\n",
    "wav1 = resample1(wav1)\n",
    "wav2 = resample2(wav2)"
   ]
  },
  {
   "cell_type": "code",
   "execution_count": 61,
   "metadata": {},
   "outputs": [
    {
     "data": {
      "text/plain": [
       "torch.Size([1, 78721])"
      ]
     },
     "execution_count": 61,
     "metadata": {},
     "output_type": "execute_result"
    }
   ],
   "source": [
    "wav1.squeeze_(0).shape"
   ]
  },
  {
   "cell_type": "code",
   "execution_count": 60,
   "metadata": {},
   "outputs": [
    {
     "data": {
      "text/plain": [
       "torch.Size([1, 142721])"
      ]
     },
     "execution_count": 60,
     "metadata": {},
     "output_type": "execute_result"
    }
   ],
   "source": [
    "wav2.shape"
   ]
  },
  {
   "cell_type": "code",
   "execution_count": 22,
   "metadata": {},
   "outputs": [],
   "source": [
    "test_file_dir = \"D:/programming/datasets/kathbadh/meta_data/telugu/test_known_data.txt\"\n",
    "# test_file_dir = \"D:/programming/datasets/VoxCeleb/list_test_hard2.txt\"\n",
    "\n",
    "lines = open(test_file_dir).read().splitlines()"
   ]
  },
  {
   "cell_type": "code",
   "execution_count": 23,
   "metadata": {},
   "outputs": [],
   "source": [
    "i = 0\n",
    "files = []\n",
    "for line in lines:\n",
    "    files.append(\"/\".join(line.split()[1].split('/')[-2:]))\n",
    "    files.append(\"/\".join(line.split()[2].split('/')[-2:]))\n",
    "    i+=1\n",
    "    if i== 5:\n",
    "        break"
   ]
  },
  {
   "cell_type": "code",
   "execution_count": 24,
   "metadata": {},
   "outputs": [
    {
     "data": {
      "text/plain": [
       "['1006/844424931083838-1006-f.wav',\n",
       " '1112/844424931130102-1112-f.wav',\n",
       " '514/844424933543154-514-m.wav',\n",
       " '514/844424933501240-514-m.wav',\n",
       " '407/844424931382090-407-f.wav',\n",
       " '407/844424931397731-407-f.wav',\n",
       " '875/844424933616223-875-m.wav',\n",
       " '1112/844424931227488-1112-f.wav',\n",
       " '259/844424933554877-259-m.wav',\n",
       " '259/844424933582104-259-m.wav']"
      ]
     },
     "execution_count": 24,
     "metadata": {},
     "output_type": "execute_result"
    }
   ],
   "source": [
    "files"
   ]
  }
 ],
 "metadata": {
  "kernelspec": {
   "display_name": "gpu",
   "language": "python",
   "name": "python3"
  },
  "language_info": {
   "codemirror_mode": {
    "name": "ipython",
    "version": 3
   },
   "file_extension": ".py",
   "mimetype": "text/x-python",
   "name": "python",
   "nbconvert_exporter": "python",
   "pygments_lexer": "ipython3",
   "version": "3.10.14"
  }
 },
 "nbformat": 4,
 "nbformat_minor": 2
}
